{
 "cells": [
  {
   "cell_type": "markdown",
   "metadata": {
    "id": "WopZ8rj-tAgc"
   },
   "source": [
    "# GRIPJuly2021 @ The Sparks Foundation\n",
    "\n",
    "\n",
    "\n",
    "\n",
    "\n"
   ]
  },
  {
   "cell_type": "markdown",
   "metadata": {},
   "source": [
    "# Author : NIKHIL GUPTA ( Data Science & Business Analytics Intern )\n",
    "\n",
    "Task 2 : Prediction using Unsupervised Machine Learning\n",
    "( Level - Beginner )\n",
    "\n",
    "Problem Statement:\n",
    "\n",
    "*  From the given 'IRIS' dataset, Predict the optimum number of clusters and \n",
    "represent it visually.\n"
   ]
  },
  {
   "cell_type": "markdown",
   "metadata": {
    "id": "Yl2jHYu2t_ZK"
   },
   "source": [
    "Import all the required libraries"
   ]
  },
  {
   "cell_type": "code",
   "execution_count": 1,
   "metadata": {
    "executionInfo": {
     "elapsed": 339,
     "status": "ok",
     "timestamp": 1625691048454,
     "user": {
      "displayName": "Arjun Vishwakarma",
      "photoUrl": "https://lh3.googleusercontent.com/a-/AOh14GjXslYSj2uzK0zjRY3VHWaq-Z5XBI06vfRqZ5SMCg=s64",
      "userId": "09250516836095973626"
     },
     "user_tz": -330
    },
    "id": "DFOzp4ZuuBm8"
   },
   "outputs": [],
   "source": [
    "import pandas as pd\n",
    "import matplotlib.pyplot as plt\n",
    "import seaborn as sns\n",
    "from sklearn import datasets\n",
    "from sklearn.cluster import KMeans"
   ]
  },
  {
   "cell_type": "markdown",
   "metadata": {
    "id": "-F1VHVcluM9m"
   },
   "source": [
    "Read the given .csv dataset and print"
   ]
  },
  {
   "cell_type": "code",
   "execution_count": null,
   "metadata": {
    "colab": {
     "base_uri": "https://localhost:8080/",
     "height": 419
    },
    "executionInfo": {
     "elapsed": 346,
     "status": "ok",
     "timestamp": 1625691315372,
     "user": {
      "displayName": "Arjun Vishwakarma",
      "photoUrl": "https://lh3.googleusercontent.com/a-/AOh14GjXslYSj2uzK0zjRY3VHWaq-Z5XBI06vfRqZ5SMCg=s64",
      "userId": "09250516836095973626"
     },
     "user_tz": -330
    },
    "id": "nStmDOGcwF-O",
    "outputId": "0da32588-6a0b-4aaa-d5ce-d9ea10e71554"
   },
   "outputs": [],
   "source": [
    "import pandas as pd\n",
    "\n",
    "  \n",
    "iris=datasets.load_iris()\n",
    "df=pd.DataFrame(iris.data, columns=iris.feature_names)"
   ]
  },
  {
   "cell_type": "code",
   "execution_count": null,
   "metadata": {},
   "outputs": [],
   "source": []
  },
  {
   "cell_type": "markdown",
   "metadata": {
    "id": "oHQ5g1aRwZ0O"
   },
   "source": [
    "Print the initial info using head() function"
   ]
  },
  {
   "cell_type": "code",
   "execution_count": null,
   "metadata": {
    "colab": {
     "base_uri": "https://localhost:8080/",
     "height": 204
    },
    "executionInfo": {
     "elapsed": 381,
     "status": "ok",
     "timestamp": 1625691387009,
     "user": {
      "displayName": "Arjun Vishwakarma",
      "photoUrl": "https://lh3.googleusercontent.com/a-/AOh14GjXslYSj2uzK0zjRY3VHWaq-Z5XBI06vfRqZ5SMCg=s64",
      "userId": "09250516836095973626"
     },
     "user_tz": -330
    },
    "id": "uE_Zg3qnwdZC",
    "outputId": "ce5910ce-5b6d-426c-8d65-3c0a2ddfa010"
   },
   "outputs": [],
   "source": [
    "df.head()"
   ]
  },
  {
   "cell_type": "markdown",
   "metadata": {
    "id": "G_PBCBJRucsm"
   },
   "source": [
    "Overview of dataset"
   ]
  },
  {
   "cell_type": "code",
   "execution_count": null,
   "metadata": {
    "colab": {
     "base_uri": "https://localhost:8080/"
    },
    "executionInfo": {
     "elapsed": 358,
     "status": "ok",
     "timestamp": 1625691397888,
     "user": {
      "displayName": "Arjun Vishwakarma",
      "photoUrl": "https://lh3.googleusercontent.com/a-/AOh14GjXslYSj2uzK0zjRY3VHWaq-Z5XBI06vfRqZ5SMCg=s64",
      "userId": "09250516836095973626"
     },
     "user_tz": -330
    },
    "id": "NE_i39kdwPKi",
    "outputId": "81639beb-3c33-4e82-b4cb-ad6d5c98f12f"
   },
   "outputs": [],
   "source": [
    "df.info"
   ]
  },
  {
   "cell_type": "markdown",
   "metadata": {
    "id": "gIsj_Nmmut2x"
   },
   "source": [
    "Check the distribution of the target class in given set"
   ]
  },
  {
   "cell_type": "code",
   "execution_count": null,
   "metadata": {
    "colab": {
     "base_uri": "https://localhost:8080/"
    },
    "executionInfo": {
     "elapsed": 409,
     "status": "ok",
     "timestamp": 1625691425441,
     "user": {
      "displayName": "Arjun Vishwakarma",
      "photoUrl": "https://lh3.googleusercontent.com/a-/AOh14GjXslYSj2uzK0zjRY3VHWaq-Z5XBI06vfRqZ5SMCg=s64",
      "userId": "09250516836095973626"
     },
     "user_tz": -330
    },
    "id": "odhVJOADu1Se",
    "outputId": "81975ae6-5168-4e7f-eb22-3b772687776d"
   },
   "outputs": [],
   "source": [
    "df.Species.value_counts()"
   ]
  },
  {
   "cell_type": "markdown",
   "metadata": {
    "id": "kR3Ic-vxwsKY"
   },
   "source": [
    "Display the image explaining sepal & petal"
   ]
  },
  {
   "cell_type": "code",
   "execution_count": null,
   "metadata": {
    "colab": {
     "base_uri": "https://localhost:8080/",
     "height": 320
    },
    "executionInfo": {
     "elapsed": 358,
     "status": "ok",
     "timestamp": 1625691459199,
     "user": {
      "displayName": "Arjun Vishwakarma",
      "photoUrl": "https://lh3.googleusercontent.com/a-/AOh14GjXslYSj2uzK0zjRY3VHWaq-Z5XBI06vfRqZ5SMCg=s64",
      "userId": "09250516836095973626"
     },
     "user_tz": -330
    },
    "id": "m8RBKhULwtG8",
    "outputId": "603addb1-9154-4309-ba11-6fbf3c6fc8b1"
   },
   "outputs": [],
   "source": [
    "from IPython.display import Image\n",
    "Image(url='https://s3.amazonaws.com/assets.datacamp.com/blog_assets/Machine+Learning+R/iris-machinelearning.png', width=800)"
   ]
  },
  {
   "cell_type": "markdown",
   "metadata": {
    "id": "ANlekX0rw9vV"
   },
   "source": [
    "Descriptive Statistics of data"
   ]
  },
  {
   "cell_type": "code",
   "execution_count": null,
   "metadata": {
    "colab": {
     "base_uri": "https://localhost:8080/",
     "height": 297
    },
    "executionInfo": {
     "elapsed": 387,
     "status": "ok",
     "timestamp": 1625691529371,
     "user": {
      "displayName": "Arjun Vishwakarma",
      "photoUrl": "https://lh3.googleusercontent.com/a-/AOh14GjXslYSj2uzK0zjRY3VHWaq-Z5XBI06vfRqZ5SMCg=s64",
      "userId": "09250516836095973626"
     },
     "user_tz": -330
    },
    "id": "UU_kbTRIw-s7",
    "outputId": "6d9628b3-317f-4c97-cba7-a9c0aa3f0a27"
   },
   "outputs": [],
   "source": [
    "df.describe()"
   ]
  },
  {
   "cell_type": "markdown",
   "metadata": {
    "id": "C2qDV4AJxE9l"
   },
   "source": [
    "Visual representation of relationship between each type of column variable"
   ]
  },
  {
   "cell_type": "code",
   "execution_count": null,
   "metadata": {
    "colab": {
     "base_uri": "https://localhost:8080/",
     "height": 903
    },
    "executionInfo": {
     "elapsed": 12626,
     "status": "ok",
     "timestamp": 1625691576181,
     "user": {
      "displayName": "Arjun Vishwakarma",
      "photoUrl": "https://lh3.googleusercontent.com/a-/AOh14GjXslYSj2uzK0zjRY3VHWaq-Z5XBI06vfRqZ5SMCg=s64",
      "userId": "09250516836095973626"
     },
     "user_tz": -330
    },
    "id": "adCmRXmExGUb",
    "outputId": "424c8f7a-4dc9-4cbe-dc8b-0d737ecc89c8"
   },
   "outputs": [],
   "source": [
    "sns.pairplot(df, hue='Species', markers='s')\n",
    "plt.show()"
   ]
  },
  {
   "cell_type": "markdown",
   "metadata": {
    "id": "6f_4I2MhxOR2"
   },
   "source": [
    "Drop unnecessary columns"
   ]
  },
  {
   "cell_type": "code",
   "execution_count": null,
   "metadata": {
    "executionInfo": {
     "elapsed": 7,
     "status": "ok",
     "timestamp": 1625691601591,
     "user": {
      "displayName": "Arjun Vishwakarma",
      "photoUrl": "https://lh3.googleusercontent.com/a-/AOh14GjXslYSj2uzK0zjRY3VHWaq-Z5XBI06vfRqZ5SMCg=s64",
      "userId": "09250516836095973626"
     },
     "user_tz": -330
    },
    "id": "ejypug5QxPUq"
   },
   "outputs": [],
   "source": [
    "df.drop(\"Id\",inplace=True,axis=1)\n",
    "df.drop(\"Species\",inplace=True,axis=1)"
   ]
  },
  {
   "cell_type": "markdown",
   "metadata": {
    "id": "Ldcwii4-xWEe"
   },
   "source": [
    "Heatmap to show correlation between each column"
   ]
  },
  {
   "cell_type": "code",
   "execution_count": null,
   "metadata": {
    "colab": {
     "base_uri": "https://localhost:8080/",
     "height": 355
    },
    "executionInfo": {
     "elapsed": 1313,
     "status": "ok",
     "timestamp": 1625691629189,
     "user": {
      "displayName": "Arjun Vishwakarma",
      "photoUrl": "https://lh3.googleusercontent.com/a-/AOh14GjXslYSj2uzK0zjRY3VHWaq-Z5XBI06vfRqZ5SMCg=s64",
      "userId": "09250516836095973626"
     },
     "user_tz": -330
    },
    "id": "PNOmvekLxXaj",
    "outputId": "f6e5ef5a-055a-4de0-e841-34bd1d0f5b65"
   },
   "outputs": [],
   "source": [
    "sns.heatmap(df.corr(), linecolor = 'white',linewidth=1, annot=True,cmap=\"cubehelix\")"
   ]
  },
  {
   "cell_type": "markdown",
   "metadata": {
    "id": "fEUoIssuxdnp"
   },
   "source": [
    "Calculating the within-cluster sum of square value"
   ]
  },
  {
   "cell_type": "code",
   "execution_count": null,
   "metadata": {
    "executionInfo": {
     "elapsed": 949,
     "status": "ok",
     "timestamp": 1625691660820,
     "user": {
      "displayName": "Arjun Vishwakarma",
      "photoUrl": "https://lh3.googleusercontent.com/a-/AOh14GjXslYSj2uzK0zjRY3VHWaq-Z5XBI06vfRqZ5SMCg=s64",
      "userId": "09250516836095973626"
     },
     "user_tz": -330
    },
    "id": "7d-KvaTWxe5b"
   },
   "outputs": [],
   "source": [
    "within_cluster_sum_of_square = []\n",
    "x = df.iloc[:, [0, 1, 2, 3]].values\n",
    "\n",
    "clusters_range = range(1,15)\n",
    "for k in clusters_range:\n",
    "    km = KMeans(n_clusters=k)\n",
    "    km = km.fit(df)\n",
    "    within_cluster_sum_of_square.append(km.inertia_)"
   ]
  },
  {
   "cell_type": "markdown",
   "metadata": {
    "id": "mL8hKcgBxmav"
   },
   "source": [
    "Plotting the \"within-cluster sum of square\" against clusters range using Elbow method"
   ]
  },
  {
   "cell_type": "code",
   "execution_count": null,
   "metadata": {
    "colab": {
     "base_uri": "https://localhost:8080/",
     "height": 295
    },
    "executionInfo": {
     "elapsed": 478,
     "status": "ok",
     "timestamp": 1625691695378,
     "user": {
      "displayName": "Arjun Vishwakarma",
      "photoUrl": "https://lh3.googleusercontent.com/a-/AOh14GjXslYSj2uzK0zjRY3VHWaq-Z5XBI06vfRqZ5SMCg=s64",
      "userId": "09250516836095973626"
     },
     "user_tz": -330
    },
    "id": "cTByGbw5xm9s",
    "outputId": "293efadc-5207-4b60-e0bb-22806b5f88c7"
   },
   "outputs": [],
   "source": [
    "plt.plot(clusters_range, within_cluster_sum_of_square, 'go--', color='blue')\n",
    "plt.title('The Elbow Method')\n",
    "plt.xlabel('Number of clusters')\n",
    "plt.ylabel('Within-cluster sum of square')\n",
    "plt.grid()\n",
    "plt.show()"
   ]
  },
  {
   "cell_type": "markdown",
   "metadata": {
    "id": "xzHL9aAGxsh-"
   },
   "source": [
    "Applying k-means clustering on the data"
   ]
  },
  {
   "cell_type": "code",
   "execution_count": null,
   "metadata": {
    "colab": {
     "base_uri": "https://localhost:8080/"
    },
    "executionInfo": {
     "elapsed": 365,
     "status": "ok",
     "timestamp": 1625691724375,
     "user": {
      "displayName": "Arjun Vishwakarma",
      "photoUrl": "https://lh3.googleusercontent.com/a-/AOh14GjXslYSj2uzK0zjRY3VHWaq-Z5XBI06vfRqZ5SMCg=s64",
      "userId": "09250516836095973626"
     },
     "user_tz": -330
    },
    "id": "vhdq6KJ3xtoz",
    "outputId": "0d9fff83-7b82-4617-a4ad-89efeeef4e5c"
   },
   "outputs": [],
   "source": [
    "model = KMeans(n_clusters = 3, init = 'k-means++', max_iter = 300, n_init = 10, random_state = 0)\n",
    "predictions = model.fit_predict(df)\n",
    "predictions"
   ]
  },
  {
   "cell_type": "markdown",
   "metadata": {
    "id": "_KYkFNP8x0Hq"
   },
   "source": [
    "Final visualization of the clusters along with the centroid"
   ]
  },
  {
   "cell_type": "code",
   "execution_count": null,
   "metadata": {
    "colab": {
     "base_uri": "https://localhost:8080/",
     "height": 404
    },
    "executionInfo": {
     "elapsed": 520,
     "status": "ok",
     "timestamp": 1625691758073,
     "user": {
      "displayName": "Arjun Vishwakarma",
      "photoUrl": "https://lh3.googleusercontent.com/a-/AOh14GjXslYSj2uzK0zjRY3VHWaq-Z5XBI06vfRqZ5SMCg=s64",
      "userId": "09250516836095973626"
     },
     "user_tz": -330
    },
    "id": "49rKIYjQx0nb",
    "outputId": "bfb4add2-ac9a-4d00-f0df-e035d6d395d2"
   },
   "outputs": [],
   "source": [
    "plt.figure(figsize=(10,6))\n",
    "plt.scatter(x[predictions == 0, 0], x[predictions == 0, 1], s = 50, c = 'yellow', label = 'Iris-setosa')\n",
    "plt.scatter(x[predictions == 1, 0], x[predictions == 1, 1], s = 50, c = 'blue', label = 'Iris-versicolour')\n",
    "plt.scatter(x[predictions == 2, 0], x[predictions == 2, 1], s = 50, c = 'green', label = 'Iris-virginica')\n",
    "\n",
    "plt.scatter(model.cluster_centers_[:, 0], model.cluster_centers_[:,1], s = 200, c = 'red', marker = '*', label = 'Centroids')\n",
    "plt.title('Iris Flower Clusters')\n",
    "plt.ylabel('Petal Width in cm')\n",
    "plt.xlabel('Petal Length in cm')\n",
    "plt.legend()\n",
    "plt.grid()\n",
    "plt.show()"
   ]
  },
  {
   "cell_type": "markdown",
   "metadata": {
    "id": "uTwA1PFXx_V-"
   },
   "source": [
    "Conclusion\n",
    "\n",
    "Here, I have successfully predicted the optimum no of clusters and represented them visually."
   ]
  },
  {
   "cell_type": "markdown",
   "metadata": {
    "id": "dlrtpS0byC8T"
   },
   "source": [
    "Thank You!!!"
   ]
  },
  {
   "cell_type": "code",
   "execution_count": null,
   "metadata": {
    "id": "KRN-r3-eyE-L"
   },
   "outputs": [],
   "source": []
  }
 ],
 "metadata": {
  "colab": {
   "authorship_tag": "ABX9TyNyk0aEzbEjEWM4QjiFXXUy",
   "collapsed_sections": [],
   "name": "Untitled18.ipynb",
   "provenance": []
  },
  "kernelspec": {
   "display_name": "Python 3",
   "language": "python",
   "name": "python3"
  },
  "language_info": {
   "codemirror_mode": {
    "name": "ipython",
    "version": 3
   },
   "file_extension": ".py",
   "mimetype": "text/x-python",
   "name": "python",
   "nbconvert_exporter": "python",
   "pygments_lexer": "ipython3",
   "version": "3.8.3"
  }
 },
 "nbformat": 4,
 "nbformat_minor": 1
}
